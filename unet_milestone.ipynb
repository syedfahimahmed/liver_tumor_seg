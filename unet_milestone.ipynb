{
 "cells": [
  {
   "cell_type": "code",
   "execution_count": 39,
   "metadata": {},
   "outputs": [],
   "source": [
    "import os\n",
    "import glob\n",
    "import cv2\n",
    "import imageio\n",
    "\n",
    "import numpy as np \n",
    "import pandas as pd \n",
    "import nibabel as nib\n",
    "import matplotlib.pyplot as plt\n",
    "from ipywidgets import *\n",
    "from PIL import Image\n",
    "from matplotlib.pyplot import figure"
   ]
  },
  {
   "cell_type": "code",
   "execution_count": 40,
   "metadata": {},
   "outputs": [
    {
     "data": {
      "text/html": [
       "<div>\n",
       "<style scoped>\n",
       "    .dataframe tbody tr th:only-of-type {\n",
       "        vertical-align: middle;\n",
       "    }\n",
       "\n",
       "    .dataframe tbody tr th {\n",
       "        vertical-align: top;\n",
       "    }\n",
       "\n",
       "    .dataframe thead th {\n",
       "        text-align: right;\n",
       "    }\n",
       "</style>\n",
       "<table border=\"1\" class=\"dataframe\">\n",
       "  <thead>\n",
       "    <tr style=\"text-align: right;\">\n",
       "      <th></th>\n",
       "      <th>dirname</th>\n",
       "      <th>filename</th>\n",
       "    </tr>\n",
       "  </thead>\n",
       "  <tbody>\n",
       "    <tr>\n",
       "      <th>0</th>\n",
       "      <td>./dataset\\segmentations</td>\n",
       "      <td>segmentation-0.nii</td>\n",
       "    </tr>\n",
       "    <tr>\n",
       "      <th>1</th>\n",
       "      <td>./dataset\\segmentations</td>\n",
       "      <td>segmentation-1.nii</td>\n",
       "    </tr>\n",
       "    <tr>\n",
       "      <th>2</th>\n",
       "      <td>./dataset\\segmentations</td>\n",
       "      <td>segmentation-10.nii</td>\n",
       "    </tr>\n",
       "    <tr>\n",
       "      <th>3</th>\n",
       "      <td>./dataset\\segmentations</td>\n",
       "      <td>segmentation-100.nii</td>\n",
       "    </tr>\n",
       "    <tr>\n",
       "      <th>4</th>\n",
       "      <td>./dataset\\segmentations</td>\n",
       "      <td>segmentation-101.nii</td>\n",
       "    </tr>\n",
       "    <tr>\n",
       "      <th>...</th>\n",
       "      <td>...</td>\n",
       "      <td>...</td>\n",
       "    </tr>\n",
       "    <tr>\n",
       "      <th>227</th>\n",
       "      <td>./dataset\\volume_pt6</td>\n",
       "      <td>volume-95.nii</td>\n",
       "    </tr>\n",
       "    <tr>\n",
       "      <th>228</th>\n",
       "      <td>./dataset\\volume_pt6</td>\n",
       "      <td>volume-96.nii</td>\n",
       "    </tr>\n",
       "    <tr>\n",
       "      <th>229</th>\n",
       "      <td>./dataset\\volume_pt6</td>\n",
       "      <td>volume-97.nii</td>\n",
       "    </tr>\n",
       "    <tr>\n",
       "      <th>230</th>\n",
       "      <td>./dataset\\volume_pt6</td>\n",
       "      <td>volume-98.nii</td>\n",
       "    </tr>\n",
       "    <tr>\n",
       "      <th>231</th>\n",
       "      <td>./dataset\\volume_pt6</td>\n",
       "      <td>volume-99.nii</td>\n",
       "    </tr>\n",
       "  </tbody>\n",
       "</table>\n",
       "<p>262 rows × 2 columns</p>\n",
       "</div>"
      ],
      "text/plain": [
       "                     dirname              filename\n",
       "0    ./dataset\\segmentations    segmentation-0.nii\n",
       "1    ./dataset\\segmentations    segmentation-1.nii\n",
       "2    ./dataset\\segmentations   segmentation-10.nii\n",
       "3    ./dataset\\segmentations  segmentation-100.nii\n",
       "4    ./dataset\\segmentations  segmentation-101.nii\n",
       "..                       ...                   ...\n",
       "227     ./dataset\\volume_pt6         volume-95.nii\n",
       "228     ./dataset\\volume_pt6         volume-96.nii\n",
       "229     ./dataset\\volume_pt6         volume-97.nii\n",
       "230     ./dataset\\volume_pt6         volume-98.nii\n",
       "231     ./dataset\\volume_pt6         volume-99.nii\n",
       "\n",
       "[262 rows x 2 columns]"
      ]
     },
     "execution_count": 40,
     "metadata": {},
     "output_type": "execute_result"
    }
   ],
   "source": [
    "file_list = []\n",
    "for dirname, _, filenames in os.walk('./dataset'):\n",
    "    for filename in filenames:\n",
    "        file_list.append((dirname, filename))\n",
    "\n",
    "df_files = pd.DataFrame(file_list, columns =['dirname', 'filename']) \n",
    "df_files.sort_values(by=['filename'], ascending=True)"
   ]
  },
  {
   "cell_type": "code",
   "execution_count": 41,
   "metadata": {},
   "outputs": [
    {
     "data": {
      "text/html": [
       "<div>\n",
       "<style scoped>\n",
       "    .dataframe tbody tr th:only-of-type {\n",
       "        vertical-align: middle;\n",
       "    }\n",
       "\n",
       "    .dataframe tbody tr th {\n",
       "        vertical-align: top;\n",
       "    }\n",
       "\n",
       "    .dataframe thead th {\n",
       "        text-align: right;\n",
       "    }\n",
       "</style>\n",
       "<table border=\"1\" class=\"dataframe\">\n",
       "  <thead>\n",
       "    <tr style=\"text-align: right;\">\n",
       "      <th></th>\n",
       "      <th>dirname</th>\n",
       "      <th>filename</th>\n",
       "      <th>mask_dirname</th>\n",
       "      <th>mask_filename</th>\n",
       "    </tr>\n",
       "  </thead>\n",
       "  <tbody>\n",
       "    <tr>\n",
       "      <th>0</th>\n",
       "      <td>./dataset\\volume_pt1</td>\n",
       "      <td>volume-0.nii</td>\n",
       "      <td>./dataset/segmentations</td>\n",
       "      <td>segmentation-0.nii</td>\n",
       "    </tr>\n",
       "    <tr>\n",
       "      <th>1</th>\n",
       "      <td>./dataset\\volume_pt1</td>\n",
       "      <td>volume-1.nii</td>\n",
       "      <td>./dataset/segmentations</td>\n",
       "      <td>segmentation-1.nii</td>\n",
       "    </tr>\n",
       "    <tr>\n",
       "      <th>2</th>\n",
       "      <td>./dataset\\volume_pt1</td>\n",
       "      <td>volume-10.nii</td>\n",
       "      <td>./dataset/segmentations</td>\n",
       "      <td>segmentation-10.nii</td>\n",
       "    </tr>\n",
       "    <tr>\n",
       "      <th>3</th>\n",
       "      <td>./dataset\\volume_pt6</td>\n",
       "      <td>volume-100.nii</td>\n",
       "      <td>./dataset/segmentations</td>\n",
       "      <td>segmentation-100.nii</td>\n",
       "    </tr>\n",
       "    <tr>\n",
       "      <th>4</th>\n",
       "      <td>./dataset\\volume_pt8</td>\n",
       "      <td>volume-101.nii</td>\n",
       "      <td>./dataset/segmentations</td>\n",
       "      <td>segmentation-101.nii</td>\n",
       "    </tr>\n",
       "    <tr>\n",
       "      <th>...</th>\n",
       "      <td>...</td>\n",
       "      <td>...</td>\n",
       "      <td>...</td>\n",
       "      <td>...</td>\n",
       "    </tr>\n",
       "    <tr>\n",
       "      <th>126</th>\n",
       "      <td>./dataset\\volume_pt6</td>\n",
       "      <td>volume-95.nii</td>\n",
       "      <td>./dataset/segmentations</td>\n",
       "      <td>segmentation-95.nii</td>\n",
       "    </tr>\n",
       "    <tr>\n",
       "      <th>127</th>\n",
       "      <td>./dataset\\volume_pt6</td>\n",
       "      <td>volume-96.nii</td>\n",
       "      <td>./dataset/segmentations</td>\n",
       "      <td>segmentation-96.nii</td>\n",
       "    </tr>\n",
       "    <tr>\n",
       "      <th>128</th>\n",
       "      <td>./dataset\\volume_pt6</td>\n",
       "      <td>volume-97.nii</td>\n",
       "      <td>./dataset/segmentations</td>\n",
       "      <td>segmentation-97.nii</td>\n",
       "    </tr>\n",
       "    <tr>\n",
       "      <th>129</th>\n",
       "      <td>./dataset\\volume_pt6</td>\n",
       "      <td>volume-98.nii</td>\n",
       "      <td>./dataset/segmentations</td>\n",
       "      <td>segmentation-98.nii</td>\n",
       "    </tr>\n",
       "    <tr>\n",
       "      <th>130</th>\n",
       "      <td>./dataset\\volume_pt6</td>\n",
       "      <td>volume-99.nii</td>\n",
       "      <td>./dataset/segmentations</td>\n",
       "      <td>segmentation-99.nii</td>\n",
       "    </tr>\n",
       "  </tbody>\n",
       "</table>\n",
       "<p>131 rows × 4 columns</p>\n",
       "</div>"
      ],
      "text/plain": [
       "                  dirname        filename             mask_dirname  \\\n",
       "0    ./dataset\\volume_pt1    volume-0.nii  ./dataset/segmentations   \n",
       "1    ./dataset\\volume_pt1    volume-1.nii  ./dataset/segmentations   \n",
       "2    ./dataset\\volume_pt1   volume-10.nii  ./dataset/segmentations   \n",
       "3    ./dataset\\volume_pt6  volume-100.nii  ./dataset/segmentations   \n",
       "4    ./dataset\\volume_pt8  volume-101.nii  ./dataset/segmentations   \n",
       "..                    ...             ...                      ...   \n",
       "126  ./dataset\\volume_pt6   volume-95.nii  ./dataset/segmentations   \n",
       "127  ./dataset\\volume_pt6   volume-96.nii  ./dataset/segmentations   \n",
       "128  ./dataset\\volume_pt6   volume-97.nii  ./dataset/segmentations   \n",
       "129  ./dataset\\volume_pt6   volume-98.nii  ./dataset/segmentations   \n",
       "130  ./dataset\\volume_pt6   volume-99.nii  ./dataset/segmentations   \n",
       "\n",
       "            mask_filename  \n",
       "0      segmentation-0.nii  \n",
       "1      segmentation-1.nii  \n",
       "2     segmentation-10.nii  \n",
       "3    segmentation-100.nii  \n",
       "4    segmentation-101.nii  \n",
       "..                    ...  \n",
       "126   segmentation-95.nii  \n",
       "127   segmentation-96.nii  \n",
       "128   segmentation-97.nii  \n",
       "129   segmentation-98.nii  \n",
       "130   segmentation-99.nii  \n",
       "\n",
       "[131 rows x 4 columns]"
      ]
     },
     "execution_count": 41,
     "metadata": {},
     "output_type": "execute_result"
    }
   ],
   "source": [
    "df_files[\"mask_dirname\"]  = \"\"\n",
    "df_files[\"mask_filename\"] = \"\"\n",
    "\n",
    "for i in range(131):\n",
    "    ct = f\"volume-{i}.nii\"\n",
    "    mask = f\"segmentation-{i}.nii\"\n",
    "    \n",
    "    df_files.loc[df_files['filename'] == ct, 'mask_filename'] = mask\n",
    "    df_files.loc[df_files['filename'] == ct, 'mask_dirname'] = \"./dataset/segmentations\"\n",
    "\n",
    "# drop segment rows\n",
    "df_files = df_files[df_files.mask_filename != ''].sort_values(by=['filename']).reset_index(drop=True) \n",
    "\n",
    "df_files"
   ]
  },
  {
   "cell_type": "code",
   "execution_count": 42,
   "metadata": {},
   "outputs": [],
   "source": [
    "def read_nii(filepath):\n",
    "    '''\n",
    "    Reads .nii file and returns pixel array\n",
    "    '''\n",
    "    ct_scan = nib.load(filepath)\n",
    "    array   = ct_scan.get_fdata()\n",
    "    array   = np.rot90(np.array(array))\n",
    "    return(array)"
   ]
  },
  {
   "cell_type": "code",
   "execution_count": 43,
   "metadata": {},
   "outputs": [
    {
     "name": "stdout",
     "output_type": "stream",
     "text": [
      "CT Shape:   (512, 512, 75)\n",
      "Mask Shape: (512, 512, 75)\n"
     ]
    }
   ],
   "source": [
    "sample = 0\n",
    "sample_ct = read_nii(df_files.loc[sample,'dirname']+\"/\"+df_files.loc[sample,'filename'])\n",
    "sample_mask = read_nii(df_files.loc[sample,'mask_dirname']+\"/\"+df_files.loc[sample,'mask_filename'])\n",
    "\n",
    "print(f'CT Shape:   {sample_ct.shape}\\nMask Shape: {sample_mask.shape}')"
   ]
  },
  {
   "cell_type": "code",
   "execution_count": 44,
   "metadata": {},
   "outputs": [
    {
     "name": "stdout",
     "output_type": "stream",
     "text": [
      "-3024.0 1410.0\n",
      "0.0 2.0\n"
     ]
    }
   ],
   "source": [
    "print(np.amin(sample_ct), np.amax(sample_ct))\n",
    "print(np.amin(sample_mask), np.amax(sample_mask))"
   ]
  },
  {
   "cell_type": "code",
   "execution_count": 48,
   "metadata": {},
   "outputs": [
    {
     "name": "stdout",
     "output_type": "stream",
     "text": [
      "[[     0 244111]\n",
      " [     1  18033]]\n"
     ]
    }
   ],
   "source": [
    "mask = Image.fromarray(sample_mask[...,sample].astype('uint8'), mode=\"L\")\n",
    "unique, counts = np.unique(mask, return_counts=True)\n",
    "print(np.array((unique, counts)).T)"
   ]
  },
  {
   "cell_type": "code",
   "execution_count": 56,
   "metadata": {},
   "outputs": [
    {
     "data": {
      "image/png": "[encoded data removed]",
      "text/plain": [
       "<Figure size 640x480 with 1 Axes>"
      ]
     },
     "metadata": {},
     "output_type": "display_data"
    }
   ],
   "source": [
    "import numpy as np\n",
    "import matplotlib.pyplot as plt\n",
    "\n",
    "# Your defined DICOM windows\n",
    "dicom_windows = {\n",
    "    'liver': (150, 30)\n",
    "}\n",
    "\n",
    "def window_image_np(array, w, l):\n",
    "    img_min = l - w // 2\n",
    "    img_max = l + w // 2\n",
    "    windowed_array = np.clip(array, img_min, img_max)\n",
    "    return (windowed_array - img_min) / (img_max - img_min)\n",
    "\n",
    "# Assuming 'sample_ct' is a NumPy array you have previously loaded\n",
    "sample_ct_np = sample_ct.astype(np.float32)\n",
    "\n",
    "# Apply the windowing function to the selected slice\n",
    "windowed_ct_np = window_image_np(sample_ct_np[..., 55], *dicom_windows['liver'])\n",
    "\n",
    "# Display the windowed image\n",
    "plt.imshow(windowed_ct_np, cmap=plt.cm.bone)\n",
    "plt.show()"
   ]
  },
  {
   "cell_type": "code",
   "execution_count": 62,
   "metadata": {},
   "outputs": [
    {
     "name": "stderr",
     "output_type": "stream",
     "text": [
      "100%|██████████| 131/131 [17:15<00:00,  7.90s/it]\n"
     ]
    }
   ],
   "source": [
    "import os\n",
    "import numpy as np\n",
    "import pandas as pd\n",
    "import nibabel as nib\n",
    "from PIL import Image\n",
    "from tqdm import tqdm\n",
    "\n",
    "# save the image as PNG using NumPy arrays\n",
    "def save_image_np(array, path):\n",
    "    im = Image.fromarray((array * 255).astype(np.uint8), mode=\"L\")\n",
    "    im.save(path, format='PNG')\n",
    "\n",
    "# Directory setup for saving images\n",
    "os.makedirs('train_images', exist_ok=True)\n",
    "os.makedirs('train_masks', exist_ok=True)\n",
    "\n",
    "# Iterate through the DataFrame and process each CT scan\n",
    "for i, row in tqdm(df_files.iterrows(), total=df_files.shape[0]):\n",
    "    ct_file_path = os.path.join(row['dirname'], row['filename']).replace('\\\\', '/')\n",
    "    mask_file_path = os.path.join(row['mask_dirname'], row['mask_filename']).replace('\\\\', '/')\n",
    "\n",
    "    # Read the CT scan and mask\n",
    "    ct = read_nii(ct_file_path)\n",
    "    mask = read_nii(mask_file_path)\n",
    "\n",
    "    for slice_idx in range(ct.shape[2]):\n",
    "        # Process each slice\n",
    "        ct_slice = ct[..., slice_idx].astype(np.float32)\n",
    "        mask_slice = mask[..., slice_idx].astype(np.float32)\n",
    "\n",
    "        # Apply windowing to the CT slice\n",
    "        ct_slice_windowed = window_image_np(ct_slice, *dicom_windows['liver'])\n",
    "        # Save the CT slice and mask slice as PNG\n",
    "        save_image_np(ct_slice_windowed, f'train_images/slice_{i}_{slice_idx}.png')\n",
    "        save_image_np(mask_slice, f'train_masks/slice_{i}_{slice_idx}.png')"
   ]
  },
  {
   "cell_type": "code",
   "execution_count": 103,
   "metadata": {},
   "outputs": [],
   "source": [
    "import os\n",
    "import torch\n",
    "import numpy as np\n",
    "from PIL import Image\n",
    "from torch.utils.data import Dataset, DataLoader\n",
    "from torchvision.transforms import Compose, Resize, ToTensor, Normalize\n",
    "\n",
    "class LiverSegmentationDataset(Dataset):\n",
    "    def __init__(self, image_dir, mask_dir, transform=None, mask_transform=None, min_white_pixels=10):\n",
    "        self.image_dir = image_dir\n",
    "        self.mask_dir = mask_dir\n",
    "        self.transform = transform\n",
    "        self.mask_transform = mask_transform\n",
    "        self.images = []\n",
    "        self.masks = []\n",
    "\n",
    "        all_image_names = os.listdir(image_dir)\n",
    "        for img_name in all_image_names:\n",
    "            img_path = os.path.join(self.image_dir, img_name)\n",
    "            mask_path = os.path.join(self.mask_dir, img_name)\n",
    "\n",
    "            mask = Image.open(mask_path).convert('L')\n",
    "            mask_np = np.array(mask)\n",
    "            \n",
    "            # Check if the mask has at least min_white_pixels white pixels\n",
    "            if np.sum(mask_np > 0) >= min_white_pixels:\n",
    "                self.images.append(img_name)  # add the image name\n",
    "                self.masks.append(img_name)\n",
    "\n",
    "    def __len__(self):\n",
    "        return len(self.images)\n",
    "\n",
    "    def __getitem__(self, idx):\n",
    "        img_name = self.images[idx]\n",
    "        img_path = os.path.join(self.image_dir, img_name)\n",
    "        mask_path = os.path.join(self.mask_dir, img_name)\n",
    "\n",
    "        image = Image.open(img_path).convert('L')\n",
    "        mask = Image.open(mask_path).convert('L')\n",
    "\n",
    "        if self.transform:\n",
    "            # Apply image transforms (including normalization)\n",
    "            image = self.transform(image)\n",
    "\n",
    "        if mask_transform:\n",
    "            # Apply mask transforms (without normalization)\n",
    "            mask = mask_transform(mask)\n",
    "\n",
    "        mask = (mask > 0).float()\n",
    "\n",
    "        return image, mask\n",
    "\n",
    "mean = [0.485]\n",
    "std = [0.229]\n",
    "\n",
    "transform = Compose([\n",
    "    Resize((256, 256)),\n",
    "    ToTensor(),\n",
    "    Normalize(mean, std)\n",
    "])\n",
    "mask_transform = Compose([\n",
    "    Resize((256, 256)),\n",
    "    ToTensor()\n",
    "])\n",
    "\n",
    "# Instantiate the dataset with the transformations\n",
    "dataset = LiverSegmentationDataset(\n",
    "    image_dir='train_images',\n",
    "    mask_dir='train_masks',\n",
    "    transform=transform,\n",
    "    mask_transform=mask_transform\n",
    ")\n",
    "\n",
    "# Split the dataset\n",
    "train_size = int(0.7 * len(dataset))\n",
    "valid_size = int(0.15 * len(dataset))\n",
    "test_size = len(dataset) - train_size - valid_size\n",
    "\n",
    "train_dataset, valid_dataset, test_dataset = torch.utils.data.random_split(dataset, [train_size, valid_size, test_size])\n",
    "\n",
    "# Create dataloaders\n",
    "batch_size = 16\n",
    "\n",
    "train_loader = DataLoader(train_dataset, batch_size=batch_size, shuffle=True)\n",
    "valid_loader = DataLoader(valid_dataset, batch_size=batch_size, shuffle=False)\n",
    "test_loader = DataLoader(test_dataset, batch_size=batch_size, shuffle=False)"
   ]
  },
  {
   "cell_type": "code",
   "execution_count": 107,
   "metadata": {},
   "outputs": [],
   "source": [
    "def calculate_f1_score(y_true, y_pred):\n",
    "    y_true = y_true.flatten()\n",
    "    y_pred = y_pred.flatten()\n",
    "    \n",
    "    tp = np.sum(y_true * y_pred)\n",
    "    fp = np.sum((1 - y_true) * y_pred)\n",
    "    fn = np.sum(y_true * (1 - y_pred))\n",
    "    \n",
    "    precision = tp / (tp + fp) if (tp + fp) > 0 else 0\n",
    "    recall = tp / (tp + fn) if (tp + fn) > 0 else 0\n",
    "    f1 = 2 * (precision * recall) / (precision + recall) if (precision + recall) > 0 else 0\n",
    "    \n",
    "    return f1"
   ]
  },
  {
   "cell_type": "code",
   "execution_count": 108,
   "metadata": {},
   "outputs": [
    {
     "name": "stderr",
     "output_type": "stream",
     "text": [
      "Epoch 1/20 [TRAIN]: 100%|██████████| 838/838 [06:57<00:00,  2.01it/s, loss=0.0245]\n",
      "Epoch 1/20 [VALID]: 100%|██████████| 180/180 [00:45<00:00,  3.95it/s, loss=0.0701]\n"
     ]
    },
    {
     "name": "stdout",
     "output_type": "stream",
     "text": [
      "\n",
      "Epoch 1/20, Train Loss: 0.0715, Valid Loss: 0.0659\n",
      "\n"
     ]
    },
    {
     "name": "stderr",
     "output_type": "stream",
     "text": [
      "Epoch 2/20 [TRAIN]: 100%|██████████| 838/838 [07:18<00:00,  1.91it/s, loss=0.0131] \n",
      "Epoch 2/20 [VALID]: 100%|██████████| 180/180 [00:44<00:00,  4.05it/s, loss=0.0226] \n"
     ]
    },
    {
     "name": "stdout",
     "output_type": "stream",
     "text": [
      "\n",
      "Epoch 2/20, Train Loss: 0.0221, Valid Loss: 0.0162\n",
      "\n"
     ]
    },
    {
     "name": "stderr",
     "output_type": "stream",
     "text": [
      "Epoch 3/20 [TRAIN]: 100%|██████████| 838/838 [07:09<00:00,  1.95it/s, loss=0.0107] \n",
      "Epoch 3/20 [VALID]: 100%|██████████| 180/180 [00:44<00:00,  4.03it/s, loss=0.0122] \n"
     ]
    },
    {
     "name": "stdout",
     "output_type": "stream",
     "text": [
      "\n",
      "Epoch 3/20, Train Loss: 0.0146, Valid Loss: 0.0118\n",
      "\n"
     ]
    },
    {
     "name": "stderr",
     "output_type": "stream",
     "text": [
      "Epoch 4/20 [TRAIN]: 100%|██████████| 838/838 [07:08<00:00,  1.96it/s, loss=0.0196] \n",
      "Epoch 4/20 [VALID]: 100%|██████████| 180/180 [00:43<00:00,  4.11it/s, loss=0.0136] \n"
     ]
    },
    {
     "name": "stdout",
     "output_type": "stream",
     "text": [
      "\n",
      "Epoch 4/20, Train Loss: 0.0118, Valid Loss: 0.0110\n",
      "\n"
     ]
    },
    {
     "name": "stderr",
     "output_type": "stream",
     "text": [
      "Epoch 5/20 [TRAIN]: 100%|██████████| 838/838 [07:14<00:00,  1.93it/s, loss=0.00844]\n",
      "Epoch 5/20 [VALID]: 100%|██████████| 180/180 [00:44<00:00,  4.05it/s, loss=0.0116] \n"
     ]
    },
    {
     "name": "stdout",
     "output_type": "stream",
     "text": [
      "\n",
      "Epoch 5/20, Train Loss: 0.0112, Valid Loss: 0.0095\n",
      "\n"
     ]
    },
    {
     "name": "stderr",
     "output_type": "stream",
     "text": [
      "Epoch 6/20 [TRAIN]: 100%|██████████| 838/838 [07:15<00:00,  1.93it/s, loss=0.013]  \n",
      "Epoch 6/20 [VALID]: 100%|██████████| 180/180 [00:44<00:00,  4.05it/s, loss=0.00982]\n"
     ]
    },
    {
     "name": "stdout",
     "output_type": "stream",
     "text": [
      "\n",
      "Epoch 6/20, Train Loss: 0.0093, Valid Loss: 0.0125\n",
      "\n"
     ]
    },
    {
     "name": "stderr",
     "output_type": "stream",
     "text": [
      "Epoch 7/20 [TRAIN]: 100%|██████████| 838/838 [07:13<00:00,  1.93it/s, loss=0.00645]\n",
      "Epoch 7/20 [VALID]: 100%|██████████| 180/180 [00:44<00:00,  4.03it/s, loss=0.00795]\n"
     ]
    },
    {
     "name": "stdout",
     "output_type": "stream",
     "text": [
      "\n",
      "Epoch 7/20, Train Loss: 0.0091, Valid Loss: 0.0081\n",
      "\n"
     ]
    },
    {
     "name": "stderr",
     "output_type": "stream",
     "text": [
      "Epoch 8/20 [TRAIN]: 100%|██████████| 838/838 [07:12<00:00,  1.94it/s, loss=0.00825]\n",
      "Epoch 8/20 [VALID]: 100%|██████████| 180/180 [00:43<00:00,  4.16it/s, loss=0.0123] \n"
     ]
    },
    {
     "name": "stdout",
     "output_type": "stream",
     "text": [
      "\n",
      "Epoch 8/20, Train Loss: 0.0079, Valid Loss: 0.0094\n",
      "\n"
     ]
    },
    {
     "name": "stderr",
     "output_type": "stream",
     "text": [
      "Epoch 9/20 [TRAIN]: 100%|██████████| 838/838 [07:52<00:00,  1.77it/s, loss=0.00643]\n",
      "Epoch 9/20 [VALID]: 100%|██████████| 180/180 [00:58<00:00,  3.05it/s, loss=0.00796]\n"
     ]
    },
    {
     "name": "stdout",
     "output_type": "stream",
     "text": [
      "\n",
      "Epoch 9/20, Train Loss: 0.0089, Valid Loss: 0.0075\n",
      "\n"
     ]
    },
    {
     "name": "stderr",
     "output_type": "stream",
     "text": [
      "Epoch 10/20 [TRAIN]: 100%|██████████| 838/838 [07:02<00:00,  1.99it/s, loss=0.00736]\n",
      "Epoch 10/20 [VALID]: 100%|██████████| 180/180 [00:43<00:00,  4.15it/s, loss=0.0143] \n"
     ]
    },
    {
     "name": "stdout",
     "output_type": "stream",
     "text": [
      "\n",
      "Epoch 10/20, Train Loss: 0.0074, Valid Loss: 0.0108\n",
      "\n"
     ]
    },
    {
     "name": "stderr",
     "output_type": "stream",
     "text": [
      "Epoch 11/20 [TRAIN]: 100%|██████████| 838/838 [07:07<00:00,  1.96it/s, loss=0.00593]\n",
      "Epoch 11/20 [VALID]: 100%|██████████| 180/180 [00:44<00:00,  4.03it/s, loss=0.00648]\n"
     ]
    },
    {
     "name": "stdout",
     "output_type": "stream",
     "text": [
      "\n",
      "Epoch 11/20, Train Loss: 0.0078, Valid Loss: 0.0069\n",
      "\n"
     ]
    },
    {
     "name": "stderr",
     "output_type": "stream",
     "text": [
      "Epoch 12/20 [TRAIN]: 100%|██████████| 838/838 [07:14<00:00,  1.93it/s, loss=0.0051] \n",
      "Epoch 12/20 [VALID]: 100%|██████████| 180/180 [00:44<00:00,  4.05it/s, loss=0.00663]\n"
     ]
    },
    {
     "name": "stdout",
     "output_type": "stream",
     "text": [
      "\n",
      "Epoch 12/20, Train Loss: 0.0065, Valid Loss: 0.0067\n",
      "\n"
     ]
    },
    {
     "name": "stderr",
     "output_type": "stream",
     "text": [
      "Epoch 13/20 [TRAIN]: 100%|██████████| 838/838 [07:17<00:00,  1.91it/s, loss=0.00786]\n",
      "Epoch 13/20 [VALID]: 100%|██████████| 180/180 [00:44<00:00,  4.01it/s, loss=0.00604]\n"
     ]
    },
    {
     "name": "stdout",
     "output_type": "stream",
     "text": [
      "\n",
      "Epoch 13/20, Train Loss: 0.0076, Valid Loss: 0.0066\n",
      "\n"
     ]
    },
    {
     "name": "stderr",
     "output_type": "stream",
     "text": [
      "Epoch 14/20 [TRAIN]: 100%|██████████| 838/838 [07:18<00:00,  1.91it/s, loss=0.00656]\n",
      "Epoch 14/20 [VALID]: 100%|██████████| 180/180 [00:43<00:00,  4.11it/s, loss=0.0067] \n"
     ]
    },
    {
     "name": "stdout",
     "output_type": "stream",
     "text": [
      "\n",
      "Epoch 14/20, Train Loss: 0.0060, Valid Loss: 0.0062\n",
      "\n"
     ]
    },
    {
     "name": "stderr",
     "output_type": "stream",
     "text": [
      "Epoch 15/20 [TRAIN]: 100%|██████████| 838/838 [07:09<00:00,  1.95it/s, loss=0.00733]\n",
      "Epoch 15/20 [VALID]: 100%|██████████| 180/180 [00:43<00:00,  4.09it/s, loss=0.00577]\n"
     ]
    },
    {
     "name": "stdout",
     "output_type": "stream",
     "text": [
      "\n",
      "Epoch 15/20, Train Loss: 0.0057, Valid Loss: 0.0061\n",
      "\n"
     ]
    },
    {
     "name": "stderr",
     "output_type": "stream",
     "text": [
      "Epoch 16/20 [TRAIN]: 100%|██████████| 838/838 [07:10<00:00,  1.95it/s, loss=0.00676]\n",
      "Epoch 16/20 [VALID]: 100%|██████████| 180/180 [00:44<00:00,  4.05it/s, loss=0.00641]\n"
     ]
    },
    {
     "name": "stdout",
     "output_type": "stream",
     "text": [
      "\n",
      "Epoch 16/20, Train Loss: 0.0056, Valid Loss: 0.0063\n",
      "\n"
     ]
    },
    {
     "name": "stderr",
     "output_type": "stream",
     "text": [
      "Epoch 17/20 [TRAIN]: 100%|██████████| 838/838 [07:16<00:00,  1.92it/s, loss=0.00532]\n",
      "Epoch 17/20 [VALID]: 100%|██████████| 180/180 [00:46<00:00,  3.86it/s, loss=0.0065] \n"
     ]
    },
    {
     "name": "stdout",
     "output_type": "stream",
     "text": [
      "\n",
      "Epoch 17/20, Train Loss: 0.0064, Valid Loss: 0.0058\n",
      "\n"
     ]
    },
    {
     "name": "stderr",
     "output_type": "stream",
     "text": [
      "Epoch 18/20 [TRAIN]: 100%|██████████| 838/838 [07:17<00:00,  1.92it/s, loss=0.00395]\n",
      "Epoch 18/20 [VALID]: 100%|██████████| 180/180 [00:44<00:00,  4.06it/s, loss=0.00493]\n"
     ]
    },
    {
     "name": "stdout",
     "output_type": "stream",
     "text": [
      "\n",
      "Epoch 18/20, Train Loss: 0.0050, Valid Loss: 0.0054\n",
      "\n"
     ]
    },
    {
     "name": "stderr",
     "output_type": "stream",
     "text": [
      "Epoch 19/20 [TRAIN]: 100%|██████████| 838/838 [07:08<00:00,  1.96it/s, loss=0.00365]\n",
      "Epoch 19/20 [VALID]: 100%|██████████| 180/180 [00:44<00:00,  4.09it/s, loss=0.00513]\n"
     ]
    },
    {
     "name": "stdout",
     "output_type": "stream",
     "text": [
      "\n",
      "Epoch 19/20, Train Loss: 0.0048, Valid Loss: 0.0054\n",
      "\n"
     ]
    },
    {
     "name": "stderr",
     "output_type": "stream",
     "text": [
      "Epoch 20/20 [TRAIN]: 100%|██████████| 838/838 [07:29<00:00,  1.87it/s, loss=0.00681]\n",
      "Epoch 20/20 [VALID]: 100%|██████████| 180/180 [00:59<00:00,  3.01it/s, loss=0.0048] \n"
     ]
    },
    {
     "name": "stdout",
     "output_type": "stream",
     "text": [
      "\n",
      "Epoch 20/20, Train Loss: 0.0047, Valid Loss: 0.0052\n",
      "\n"
     ]
    }
   ],
   "source": [
    "import os\n",
    "import torch\n",
    "import torch.nn as nn\n",
    "import torch.optim as optim\n",
    "from unet_model import UNet\n",
    "from tqdm import tqdm\n",
    "\n",
    "# Set the device to GPU if available\n",
    "device = torch.device(\"cuda\" if torch.cuda.is_available() else \"cpu\")\n",
    "\n",
    "# Initialize the U-Net model\n",
    "model = UNet(n_channels=1, n_classes=1).to(device)\n",
    "\n",
    "# Define the loss function and optimizer\n",
    "criterion = nn.BCEWithLogitsLoss()\n",
    "optimizer = optim.Adam(model.parameters(), lr=0.001)\n",
    "\n",
    "# Learning rate scheduler\n",
    "scheduler = torch.optim.lr_scheduler.ReduceLROnPlateau(\n",
    "    optimizer, mode=\"min\", factor=0.5, patience=3\n",
    ")\n",
    "\n",
    "# Create the results directory if it doesn't exist\n",
    "results_dir = './result'\n",
    "os.makedirs(results_dir, exist_ok=True)\n",
    "\n",
    "# Training and validation loop\n",
    "num_epochs = 20\n",
    "best_valid_loss = float('inf')\n",
    "\n",
    "# Function to save the image, mask, and prediction\n",
    "def save_visualization(image, mask, pred, batch_idx, phase):\n",
    "    image = image.squeeze().cpu().detach().numpy()\n",
    "    mask = mask.squeeze().cpu().detach().numpy()\n",
    "    pred = torch.sigmoid(pred).squeeze().cpu().detach().numpy()\n",
    "    pred_thresholded = (pred > 0.5).astype(np.float32)\n",
    "\n",
    "    plt.figure(figsize=(15, 5))\n",
    "\n",
    "    plt.subplot(1, 3, 1)\n",
    "    plt.imshow(image, cmap='gray')\n",
    "    plt.title('Image')\n",
    "\n",
    "    plt.subplot(1, 3, 2)\n",
    "    plt.imshow(mask, cmap='gray')\n",
    "    plt.title('Mask')\n",
    "\n",
    "    plt.subplot(1, 3, 3)\n",
    "    plt.imshow(pred_thresholded, cmap='gray')\n",
    "    plt.title('Prediction (Thresholded)')\n",
    "\n",
    "    # Save the figure\n",
    "    plt.savefig(os.path.join(results_dir, f'{phase}_batch_{batch_idx}.png'))\n",
    "    plt.close()\n",
    "\n",
    "# Add initialization for F1 score logs\n",
    "train_f1_scores = []\n",
    "valid_f1_scores = []\n",
    "\n",
    "for epoch in range(num_epochs):\n",
    "    model.train()\n",
    "    train_loss = 0.0\n",
    "    valid_f1_scores.clear()\n",
    "    # Wrap the training loader with tqdm for a progress bar\n",
    "    train_loader_pbar = tqdm(train_loader, desc=f'Epoch {epoch+1}/{num_epochs} [TRAIN]')\n",
    "    \n",
    "    for batch_idx, (images, masks) in enumerate(train_loader_pbar):\n",
    "        images = images.to(device)\n",
    "        masks = masks.to(device)\n",
    "\n",
    "        # Forward pass\n",
    "        outputs = model(images)\n",
    "        loss = criterion(outputs, masks)\n",
    "\n",
    "        # Backward and optimize\n",
    "        optimizer.zero_grad()\n",
    "        loss.backward()\n",
    "        optimizer.step()\n",
    "\n",
    "        train_loss += loss.item() * images.size(0)\n",
    "        # Update the tqdm progress bar with the current loss\n",
    "        train_loader_pbar.set_postfix({'loss': loss.item()})\n",
    "        \n",
    "        # Save visualizations for specific batches\n",
    "        if batch_idx == 800:\n",
    "            save_visualization(images[0], masks[0], outputs[0], batch_idx, 'train')\n",
    "\n",
    "    # Validation phase\n",
    "    model.eval()\n",
    "    valid_loss = 0.0\n",
    "    # Wrap the validation loader with tqdm for a progress bar\n",
    "    valid_loader_pbar = tqdm(valid_loader, desc=f'Epoch {epoch+1}/{num_epochs} [VALID]')\n",
    "    \n",
    "    with torch.no_grad():\n",
    "        for batch_idx, (images, masks) in enumerate(valid_loader_pbar):\n",
    "            images = images.to(device)\n",
    "            masks = masks.to(device)\n",
    "\n",
    "            outputs = model(images)\n",
    "            loss = criterion(outputs, masks)\n",
    "\n",
    "            valid_loss += loss.item() * images.size(0)\n",
    "            # Update the tqdm progress bar with the current loss\n",
    "            valid_loader_pbar.set_postfix({'loss': loss.item()})\n",
    "            \n",
    "            if batch_idx == 110:\n",
    "                save_visualization(images[0], masks[0], outputs[0], batch_idx, 'valid')\n",
    "                \n",
    "            # Calculate F1 score\n",
    "            preds_binary = (torch.sigmoid(outputs) > 0.5).float()\n",
    "            f1_score = calculate_f1_score(masks.cpu().numpy(), preds_binary.cpu().numpy())\n",
    "            valid_f1_scores.append(f1_score)\n",
    "          \n",
    "    # Calculate average losses\n",
    "    train_loss = train_loss / len(train_loader.dataset)\n",
    "    valid_loss = valid_loss / len(valid_loader.dataset)\n",
    "    mean_valid_f1 = np.mean(valid_f1_scores)\n",
    "    # Step the scheduler\n",
    "    scheduler.step(valid_loss)\n",
    "\n",
    "    # Write the losses to file\n",
    "    with open(os.path.join(results_dir, 'losses.txt'), 'a') as f:\n",
    "        f.write(f'{epoch+1},{train_loss:.4f},{valid_loss:.4f}\\n')\n",
    "        \n",
    "    # Write the F1 scores to file\n",
    "    with open(os.path.join(results_dir, 'performance.txt'), 'a') as f:\n",
    "        f.write(f'{epoch+1},{mean_valid_f1:.4f}\\n')\n",
    "\n",
    "    # Print training and validation loss at the end of the epoch\n",
    "    print(f'\\nEpoch {epoch+1}/{num_epochs}, Train Loss: {train_loss:.4f}, Valid Loss: {valid_loss:.4f}\\n')\n",
    "\n",
    "    # Save the model every 2 epochs\n",
    "    if (epoch+1) % 1 == 0:\n",
    "        torch.save(model.state_dict(), os.path.join(results_dir, f'unet_liver_segmentation_epoch_{epoch+1}.pth'))\n",
    "\n",
    "    # Save the best model\n",
    "    if valid_loss < best_valid_loss:\n",
    "        best_valid_loss = valid_loss\n",
    "        torch.save(model.state_dict(), os.path.join(results_dir, 'unet_liver_segmentation_best.pth'))\n",
    "\n",
    "# Save the last model checkpoint\n",
    "torch.save(model.state_dict(), os.path.join(results_dir, 'unet_liver_segmentation_last.pth'))"
   ]
  },
  {
   "cell_type": "code",
   "execution_count": 110,
   "metadata": {},
   "outputs": [
    {
     "data": {
      "image/png": "[encoded data removed]",
      "text/plain": [
       "<Figure size 1000x500 with 1 Axes>"
      ]
     },
     "metadata": {},
     "output_type": "display_data"
    }
   ],
   "source": [
    "# Load the losses data\n",
    "losses_df = pd.read_csv('./result/losses.txt', header=None, names=['Epoch', 'TrainLoss', 'ValidLoss'])\n",
    "\n",
    "# Plot the training and validation loss\n",
    "plt.figure(figsize=(10, 5))\n",
    "plt.plot(losses_df['Epoch'], losses_df['TrainLoss'], label='Train Loss')\n",
    "plt.plot(losses_df['Epoch'], losses_df['ValidLoss'], label='Valid Loss')\n",
    "plt.xlabel('Epoch')\n",
    "plt.ylabel('Loss')\n",
    "plt.title('Training and Validation Loss Over Epochs')\n",
    "plt.legend()\n",
    "plt.grid(True)\n",
    "plt.savefig(os.path.join(results_dir, 'loss.png'))\n",
    "plt.show()"
   ]
  },
  {
   "cell_type": "code",
   "execution_count": 111,
   "metadata": {},
   "outputs": [
    {
     "data": {
      "image/png": "[encoded data removed]",
      "text/plain": [
       "<Figure size 1000x500 with 1 Axes>"
      ]
     },
     "metadata": {},
     "output_type": "display_data"
    }
   ],
   "source": [
    "# Load the performance data\n",
    "performance_df = pd.read_csv('./result/performance.txt', header=None, names=['Epoch', 'F1Score'])\n",
    "\n",
    "# Plot the F1 Score\n",
    "plt.figure(figsize=(10, 5))\n",
    "plt.plot(performance_df['Epoch'], performance_df['F1Score'], label='Validation F1 Score', color='orange')\n",
    "plt.xlabel('Epoch')\n",
    "plt.ylabel('F1 Score')\n",
    "plt.title('Validation F1 Score Over Epochs')\n",
    "plt.legend()\n",
    "plt.grid(True)\n",
    "plt.savefig(os.path.join(results_dir, 'f1_score.png'))\n",
    "plt.show()"
   ]
  },
  {
   "cell_type": "code",
   "execution_count": 113,
   "metadata": {},
   "outputs": [
    {
     "name": "stdout",
     "output_type": "stream",
     "text": [
      "F1 Score on the test set: 0.9855244474019398\n"
     ]
    }
   ],
   "source": [
    "import torch\n",
    "import numpy as np\n",
    "from unet_model import UNet\n",
    "from torchvision.transforms import ToTensor\n",
    "from torch.utils.data import DataLoader\n",
    "from matplotlib import pyplot as plt\n",
    "\n",
    "\n",
    "model = UNet(n_channels=1, n_classes=1)\n",
    "model.load_state_dict(torch.load(\"./result/unet_liver_segmentation_best.pth\"))\n",
    "model.eval()\n",
    "\n",
    "\n",
    "model = model.to(device)\n",
    "\n",
    "\n",
    "true_labels = []\n",
    "predicted_labels = []\n",
    "\n",
    "\n",
    "with torch.no_grad():\n",
    "    for images, masks in test_loader:\n",
    "        images = images.to(device)\n",
    "        masks = masks.to(device)\n",
    "\n",
    "        outputs = model(images)\n",
    "        \n",
    "\n",
    "        preds = torch.sigmoid(outputs) > 0.5\n",
    "        \n",
    "        true_labels.append(masks.cpu().numpy())\n",
    "        predicted_labels.append(preds.cpu().numpy())\n",
    "\n",
    "# Flatten the lists and compute the F1 score\n",
    "true_labels = np.vstack(true_labels).flatten()\n",
    "predicted_labels = np.vstack(predicted_labels).flatten()\n",
    "test_f1_score = calculate_f1_score(true_labels, predicted_labels)\n",
    "\n",
    "print(f'F1 Score on the test set: {test_f1_score}')"
   ]
  },
  {
   "cell_type": "code",
   "execution_count": 114,
   "metadata": {},
   "outputs": [
    {
     "ename": "ValueError",
     "evalue": "operands could not be broadcast together with shapes (256,256,3) (256,256) ",
     "output_type": "error",
     "traceback": [
      "\u001b[1;31m---------------------------------------------------------------------------\u001b[0m",
      "\u001b[1;31mValueError\u001b[0m                                Traceback (most recent call last)",
      "\u001b[1;32m~\\AppData\\Local\\Temp\\ipykernel_5072\\1734672491.py\u001b[0m in \u001b[0;36m<module>\u001b[1;34m\u001b[0m\n\u001b[0;32m     29\u001b[0m \u001b[1;33m\u001b[0m\u001b[0m\n\u001b[0;32m     30\u001b[0m \u001b[1;31m# Overlay the masks on the image\u001b[0m\u001b[1;33m\u001b[0m\u001b[1;33m\u001b[0m\u001b[1;33m\u001b[0m\u001b[0m\n\u001b[1;32m---> 31\u001b[1;33m \u001b[0moverlay_true\u001b[0m \u001b[1;33m=\u001b[0m \u001b[0moverlay_mask\u001b[0m\u001b[1;33m(\u001b[0m\u001b[0mimage_np\u001b[0m\u001b[1;33m,\u001b[0m \u001b[0mmask_np\u001b[0m\u001b[1;33m)\u001b[0m\u001b[1;33m\u001b[0m\u001b[1;33m\u001b[0m\u001b[0m\n\u001b[0m\u001b[0;32m     32\u001b[0m \u001b[0moverlay_pred\u001b[0m \u001b[1;33m=\u001b[0m \u001b[0moverlay_mask\u001b[0m\u001b[1;33m(\u001b[0m\u001b[0mimage_np\u001b[0m\u001b[1;33m,\u001b[0m \u001b[0moutput_np\u001b[0m\u001b[1;33m)\u001b[0m\u001b[1;33m\u001b[0m\u001b[1;33m\u001b[0m\u001b[0m\n\u001b[0;32m     33\u001b[0m \u001b[1;33m\u001b[0m\u001b[0m\n",
      "\u001b[1;32m~\\AppData\\Local\\Temp\\ipykernel_5072\\1734672491.py\u001b[0m in \u001b[0;36moverlay_mask\u001b[1;34m(img, mask, color, alpha)\u001b[0m\n\u001b[0;32m      7\u001b[0m     \u001b[0mmask_idx\u001b[0m \u001b[1;33m=\u001b[0m \u001b[0mnp\u001b[0m\u001b[1;33m.\u001b[0m\u001b[0mwhere\u001b[0m\u001b[1;33m(\u001b[0m\u001b[0mmask\u001b[0m \u001b[1;33m==\u001b[0m \u001b[1;36m1\u001b[0m\u001b[1;33m)\u001b[0m\u001b[1;33m\u001b[0m\u001b[1;33m\u001b[0m\u001b[0m\n\u001b[0;32m      8\u001b[0m     \u001b[0mimg_rgb\u001b[0m\u001b[1;33m[\u001b[0m\u001b[0mmask_idx\u001b[0m\u001b[1;33m[\u001b[0m\u001b[1;36m0\u001b[0m\u001b[1;33m]\u001b[0m\u001b[1;33m,\u001b[0m \u001b[0mmask_idx\u001b[0m\u001b[1;33m[\u001b[0m\u001b[1;36m1\u001b[0m\u001b[1;33m]\u001b[0m\u001b[1;33m,\u001b[0m \u001b[1;33m:\u001b[0m\u001b[1;33m]\u001b[0m \u001b[1;33m=\u001b[0m \u001b[0mnp\u001b[0m\u001b[1;33m.\u001b[0m\u001b[0marray\u001b[0m\u001b[1;33m(\u001b[0m\u001b[1;33m[\u001b[0m\u001b[1;36m1\u001b[0m\u001b[1;33m,\u001b[0m \u001b[1;36m0\u001b[0m\u001b[1;33m,\u001b[0m \u001b[1;36m0\u001b[0m\u001b[1;33m]\u001b[0m\u001b[1;33m)\u001b[0m  \u001b[1;31m# Red color mask\u001b[0m\u001b[1;33m\u001b[0m\u001b[1;33m\u001b[0m\u001b[0m\n\u001b[1;32m----> 9\u001b[1;33m     \u001b[0mcombined\u001b[0m \u001b[1;33m=\u001b[0m \u001b[1;33m(\u001b[0m\u001b[0mimg_rgb\u001b[0m \u001b[1;33m*\u001b[0m \u001b[0malpha\u001b[0m \u001b[1;33m+\u001b[0m \u001b[0mimg\u001b[0m \u001b[1;33m*\u001b[0m \u001b[1;33m(\u001b[0m\u001b[1;36m1\u001b[0m \u001b[1;33m-\u001b[0m \u001b[0malpha\u001b[0m\u001b[1;33m)\u001b[0m\u001b[1;33m)\u001b[0m\u001b[1;33m.\u001b[0m\u001b[0mclip\u001b[0m\u001b[1;33m(\u001b[0m\u001b[1;36m0\u001b[0m\u001b[1;33m,\u001b[0m \u001b[1;36m1\u001b[0m\u001b[1;33m)\u001b[0m\u001b[1;33m\u001b[0m\u001b[1;33m\u001b[0m\u001b[0m\n\u001b[0m\u001b[0;32m     10\u001b[0m     \u001b[1;32mreturn\u001b[0m \u001b[0mcombined\u001b[0m\u001b[1;33m\u001b[0m\u001b[1;33m\u001b[0m\u001b[0m\n\u001b[0;32m     11\u001b[0m \u001b[1;33m\u001b[0m\u001b[0m\n",
      "\u001b[1;31mValueError\u001b[0m: operands could not be broadcast together with shapes (256,256,3) (256,256) "
     ]
    }
   ],
   "source": [
    "from matplotlib import cm\n",
    "\n",
    "def overlay_mask(img, mask, color='red', alpha=0.5):\n",
    "    \"\"\" Overlay mask on the image. \"\"\"\n",
    "    # Create an RGB version of the grayscale image\n",
    "    img_rgb = cm.gray(img)[:,:,:3]\n",
    "    mask_idx = np.where(mask == 1)\n",
    "    img_rgb[mask_idx[0], mask_idx[1], :] = np.array(cm.colors.to_rgb(color))\n",
    "    combined = (img_rgb * alpha + img_rgb * (1 - alpha)).clip(0, 1)\n",
    "    return combined\n",
    "\n",
    "# Visualize one example with overlay\n",
    "image, mask = next(iter(test_loader))\n",
    "image = image.to(device)\n",
    "mask = mask.to(device)\n",
    "output = model(image)\n",
    "\n",
    "# Apply sigmoid to output to get the probability map\n",
    "output_prob = torch.sigmoid(output)\n",
    "\n",
    "# Apply threshold to turn it into a binary mask\n",
    "threshold = 0.5\n",
    "output_bin = (output_prob > threshold).float()\n",
    "\n",
    "# Convert to numpy arrays for visualization\n",
    "image_np = image[0].squeeze().cpu().numpy()\n",
    "mask_np = mask[0].squeeze().cpu().numpy()\n",
    "output_np = output_bin[0].squeeze().cpu().detach().numpy()\n",
    "\n",
    "# Overlay the masks on the image\n",
    "overlay_true = overlay_mask(image_np, mask_np)\n",
    "overlay_pred = overlay_mask(image_np, output_np)\n",
    "\n",
    "plt.figure(figsize=(20, 5))\n",
    "plt.suptitle('Testing Data - Image, True Mask, Predicted Mask, and Overlays', fontsize=16)\n",
    "\n",
    "plt.subplot(1, 5, 1)\n",
    "plt.imshow(image_np, cmap='bone')\n",
    "plt.title('Image')\n",
    "\n",
    "plt.subplot(1, 5, 2)\n",
    "plt.imshow(mask_np, cmap='bone')\n",
    "plt.title('True Mask')\n",
    "\n",
    "plt.subplot(1, 5, 3)\n",
    "plt.imshow(output_np, cmap='bone')\n",
    "plt.title('Predicted Mask (Thresholded)')\n",
    "\n",
    "plt.subplot(1, 5, 4)\n",
    "plt.imshow(overlay_true)\n",
    "plt.title('Image with True Mask Overlay')\n",
    "\n",
    "plt.subplot(1, 5, 5)\n",
    "plt.imshow(overlay_pred)\n",
    "plt.title('Image with Predicted Mask Overlay')\n",
    "\n",
    "plt.savefig(os.path.join(results_dir, 'test.png'))\n",
    "plt.show()"
   ]
  }
 ],
 "metadata": {
  "kernelspec": {
   "display_name": "topo_loss",
   "language": "python",
   "name": "python3"
  },
  "language_info": {
   "codemirror_mode": {
    "name": "ipython",
    "version": 3
   },
   "file_extension": ".py",
   "mimetype": "text/x-python",
   "name": "python",
   "nbconvert_exporter": "python",
   "pygments_lexer": "ipython3",
   "version": "3.7.16"
  }
 },
 "nbformat": 4,
 "nbformat_minor": 2
}
